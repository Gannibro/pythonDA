{
 "cells": [
  {
   "cell_type": "markdown",
   "id": "e4e5755e-be7b-46f7-acb9-5e6e699814d1",
   "metadata": {},
   "source": [
    "# numpy basics"
   ]
  },
  {
   "cell_type": "code",
   "execution_count": 1,
   "id": "849eeebf-0457-47a9-be62-0f1c255cbd99",
   "metadata": {},
   "outputs": [],
   "source": [
    "import numpy as np"
   ]
  },
  {
   "cell_type": "code",
   "execution_count": 2,
   "id": "61c3a4bd-c789-4a16-95b9-e89acb027971",
   "metadata": {},
   "outputs": [],
   "source": [
    "arr = np.array([[1,2,3,4,5]], np.int32)"
   ]
  },
  {
   "cell_type": "code",
   "execution_count": 3,
   "id": "88319a9e-a322-4652-b18d-5b8277a8448a",
   "metadata": {},
   "outputs": [
    {
     "data": {
      "text/plain": [
       "array([[1, 2, 3, 4, 5]])"
      ]
     },
     "execution_count": 3,
     "metadata": {},
     "output_type": "execute_result"
    }
   ],
   "source": [
    "arr"
   ]
  },
  {
   "cell_type": "code",
   "execution_count": 5,
   "id": "48a8eff1-0467-41b4-b593-0f6e301ff812",
   "metadata": {},
   "outputs": [],
   "source": [
    "arr[0,1] = 55"
   ]
  },
  {
   "cell_type": "code",
   "execution_count": 6,
   "id": "40a83b54-6e26-4eb8-9d1e-9c9bcc4923f3",
   "metadata": {},
   "outputs": [
    {
     "data": {
      "text/plain": [
       "array([[ 1, 55,  3,  4,  5]])"
      ]
     },
     "execution_count": 6,
     "metadata": {},
     "output_type": "execute_result"
    }
   ],
   "source": [
    "arr"
   ]
  },
  {
   "cell_type": "markdown",
   "id": "de9d6c03-8763-4be1-a83a-49c5977e0df5",
   "metadata": {},
   "source": [
    "# Array Creation from other Python Structures"
   ]
  },
  {
   "cell_type": "code",
   "execution_count": 8,
   "id": "160ecff2-52b4-46ce-9271-ba882eab5cf6",
   "metadata": {},
   "outputs": [],
   "source": [
    " listArray = np.array([[1,2,3],[4,5,6],[7,8,9]])"
   ]
  },
  {
   "cell_type": "code",
   "execution_count": 9,
   "id": "c0d97fc8-62b7-4ead-b986-e909bd7e75c7",
   "metadata": {},
   "outputs": [
    {
     "data": {
      "text/plain": [
       "array([[1, 2, 3],\n",
       "       [4, 5, 6],\n",
       "       [7, 8, 9]])"
      ]
     },
     "execution_count": 9,
     "metadata": {},
     "output_type": "execute_result"
    }
   ],
   "source": [
    "listArray"
   ]
  },
  {
   "cell_type": "code",
   "execution_count": 10,
   "id": "71bf946b-4aa2-4cec-b30a-9db9c44953e4",
   "metadata": {},
   "outputs": [
    {
     "data": {
      "text/plain": [
       "9"
      ]
     },
     "execution_count": 10,
     "metadata": {},
     "output_type": "execute_result"
    }
   ],
   "source": [
    "listArray[2,2]"
   ]
  },
  {
   "cell_type": "code",
   "execution_count": 11,
   "id": "41ab41dd-ed11-401c-95ac-388c402b9883",
   "metadata": {},
   "outputs": [
    {
     "data": {
      "text/plain": [
       "dtype('int32')"
      ]
     },
     "execution_count": 11,
     "metadata": {},
     "output_type": "execute_result"
    }
   ],
   "source": [
    "listArray.dtype"
   ]
  },
  {
   "cell_type": "code",
   "execution_count": 22,
   "id": "e787a58d-d6a4-4fc3-98e2-d82cfb7f2430",
   "metadata": {},
   "outputs": [],
   "source": [
    "ones = np.ones((2,5))"
   ]
  },
  {
   "cell_type": "code",
   "execution_count": 23,
   "id": "de0f5d25",
   "metadata": {},
   "outputs": [
    {
     "data": {
      "text/plain": [
       "array([[1., 1., 1., 1., 1.],\n",
       "       [1., 1., 1., 1., 1.]])"
      ]
     },
     "execution_count": 23,
     "metadata": {},
     "output_type": "execute_result"
    }
   ],
   "source": [
    "ones"
   ]
  },
  {
   "cell_type": "code",
   "execution_count": 17,
   "id": "ef8d73dd-e616-4e30-a136-e32325a67f65",
   "metadata": {},
   "outputs": [],
   "source": [
    "rng = np.arange (10)"
   ]
  },
  {
   "cell_type": "code",
   "execution_count": 18,
   "id": "67e7ec54-3966-4a48-a34b-072415dcd8b7",
   "metadata": {},
   "outputs": [
    {
     "data": {
      "text/plain": [
       "array([0, 1, 2, 3, 4, 5, 6, 7, 8, 9])"
      ]
     },
     "execution_count": 18,
     "metadata": {},
     "output_type": "execute_result"
    }
   ],
   "source": [
    "rng"
   ]
  },
  {
   "cell_type": "code",
   "execution_count": 24,
   "id": "b4926999-80e6-4894-acff-4c333ae5fdd8",
   "metadata": {},
   "outputs": [],
   "source": [
    "arr = [[1,2,3],[4,5,6],[7,8,9]]"
   ]
  },
  {
   "cell_type": "code",
   "execution_count": 26,
   "id": "d0590ea5-ec86-4913-b91f-d4cf12c30865",
   "metadata": {},
   "outputs": [],
   "source": [
    "arr = np.array(arr)"
   ]
  },
  {
   "cell_type": "code",
   "execution_count": 27,
   "id": "3ff94605-5e75-4c7f-b073-8b294a8f4716",
   "metadata": {},
   "outputs": [
    {
     "data": {
      "text/plain": [
       "array([[1, 2, 3],\n",
       "       [4, 5, 6],\n",
       "       [7, 8, 9]])"
      ]
     },
     "execution_count": 27,
     "metadata": {},
     "output_type": "execute_result"
    }
   ],
   "source": [
    "arr"
   ]
  },
  {
   "cell_type": "markdown",
   "id": "c428d563-b6db-40bf-a204-599bcdf16b26",
   "metadata": {},
   "source": [
    "# Mathematical calculations using numpy array #"
   ]
  },
  {
   "cell_type": "code",
   "execution_count": 29,
   "id": "22e360bc-f525-45f4-80f9-000473135c68",
   "metadata": {},
   "outputs": [
    {
     "data": {
      "text/plain": [
       "array([12, 15, 18])"
      ]
     },
     "execution_count": 29,
     "metadata": {},
     "output_type": "execute_result"
    }
   ],
   "source": [
    "arr.sum (axis = 0)"
   ]
  },
  {
   "cell_type": "code",
   "execution_count": 30,
   "id": "68389ef0-8155-4412-99e7-9708c36405ec",
   "metadata": {},
   "outputs": [
    {
     "data": {
      "text/plain": [
       "array([ 6, 15, 24])"
      ]
     },
     "execution_count": 30,
     "metadata": {},
     "output_type": "execute_result"
    }
   ],
   "source": [
    "arr.sum (axis = 1)"
   ]
  },
  {
   "cell_type": "code",
   "execution_count": 31,
   "id": "0ba5ddf6-8ca7-46c5-b132-754a8745fa98",
   "metadata": {},
   "outputs": [
    {
     "data": {
      "text/plain": [
       "<numpy.flatiter at 0x29ee23bf640>"
      ]
     },
     "execution_count": 31,
     "metadata": {},
     "output_type": "execute_result"
    }
   ],
   "source": [
    "arr.flat"
   ]
  },
  {
   "cell_type": "code",
   "execution_count": 33,
   "id": "a607285d-7377-48d6-894a-e22cca25350a",
   "metadata": {},
   "outputs": [
    {
     "name": "stdout",
     "output_type": "stream",
     "text": [
      "1\n",
      "2\n",
      "3\n",
      "4\n",
      "5\n",
      "6\n",
      "7\n",
      "8\n",
      "9\n"
     ]
    }
   ],
   "source": [
    "for item in arr.flat:\n",
    "    print(item)"
   ]
  },
  {
   "cell_type": "code",
   "execution_count": null,
   "id": "97610265-c356-427c-a9d8-7be93913d16e",
   "metadata": {},
   "outputs": [],
   "source": []
  }
 ],
 "metadata": {
  "kernelspec": {
   "display_name": "Python 3 (ipykernel)",
   "language": "python",
   "name": "python3"
  },
  "language_info": {
   "codemirror_mode": {
    "name": "ipython",
    "version": 3
   },
   "file_extension": ".py",
   "mimetype": "text/x-python",
   "name": "python",
   "nbconvert_exporter": "python",
   "pygments_lexer": "ipython3",
   "version": "3.12.5"
  }
 },
 "nbformat": 4,
 "nbformat_minor": 5
}
