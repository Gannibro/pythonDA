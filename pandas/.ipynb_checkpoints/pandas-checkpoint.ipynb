{
 "cells": [
  {
   "cell_type": "markdown",
   "id": "542a3b87-a88d-4561-8157-a0c8cf4b30ce",
   "metadata": {},
   "source": [
    "# pandas basics #"
   ]
  },
  {
   "cell_type": "code",
   "execution_count": 1,
   "id": "f88a1c5b-f942-4d11-a47d-052ec77315c4",
   "metadata": {},
   "outputs": [],
   "source": [
    "import numpy as np"
   ]
  },
  {
   "cell_type": "code",
   "execution_count": 2,
   "id": "62cd8a78-12cd-4ed9-b524-ff3cc8713f1a",
   "metadata": {},
   "outputs": [],
   "source": [
    "import pandas as pd"
   ]
  },
  {
   "cell_type": "code",
   "execution_count": null,
   "id": "ee593ad9-c027-44dd-9980-f77ad3c04f90",
   "metadata": {},
   "outputs": [],
   "source": [
    "dict1 = {\n",
    "    \"name\":['a','b','c','d','e'],\n",
    "    \"marks\":[1,2,3,4,5],\n",
    "    \"place\":['A','B','C','D','E']"
   ]
  }
 ],
 "metadata": {
  "kernelspec": {
   "display_name": "Python 3 (ipykernel)",
   "language": "python",
   "name": "python3"
  },
  "language_info": {
   "codemirror_mode": {
    "name": "ipython",
    "version": 3
   },
   "file_extension": ".py",
   "mimetype": "text/x-python",
   "name": "python",
   "nbconvert_exporter": "python",
   "pygments_lexer": "ipython3",
   "version": "3.12.5"
  }
 },
 "nbformat": 4,
 "nbformat_minor": 5
}
